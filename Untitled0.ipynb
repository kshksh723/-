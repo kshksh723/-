{
  "nbformat": 4,
  "nbformat_minor": 0,
  "metadata": {
    "colab": {
      "name": "Untitled0.ipynb",
      "provenance": []
    },
    "kernelspec": {
      "name": "python3",
      "display_name": "Python 3"
    },
    "language_info": {
      "name": "python"
    }
  },
  "cells": [
    {
      "cell_type": "code",
      "metadata": {
        "id": "XmMBkxV7G1iN",
        "colab": {
          "base_uri": "https://localhost:8080/",
          "height": 1000
        },
        "outputId": "34ff2b32-4f87-4e72-b42e-5d4e11a9d0ee"
      },
      "source": [
        "from keras.datasets import mnist\n",
        "from keras.utils import np_utils\n",
        "from keras.models import Sequential\n",
        "from keras.layers import Dense, Dropout, Flatten, Conv2D, MaxPooling2D\n",
        "from keras.callbacks import ModelCheckpoint,EarlyStopping\n",
        "\n",
        "import matplotlib.pyplot as plt\n",
        "import numpy\n",
        "import os\n",
        "import tensorflow as tf\n",
        "\n",
        "# seed 값 설정\n",
        "seed = 0\n",
        "numpy.random.seed(seed)\n",
        "tf.random.set_seed(3)\n",
        "\n",
        "# 데이터 불러오기\n",
        "\n",
        "(X_train, Y_train), (X_test, Y_test) = mnist.load_data()\n",
        "X_train = X_train.reshape(X_train.shape[0], 28, 28, 1).astype('float32') / 255\n",
        "X_test = X_test.reshape(X_test.shape[0], 28, 28, 1).astype('float32') / 255\n",
        "Y_train = np_utils.to_categorical(Y_train)\n",
        "Y_test = np_utils.to_categorical(Y_test)\n",
        "\n",
        "# 컨볼루션 신경망의 설정\n",
        "model = Sequential()\n",
        "model.add(Conv2D(32, kernel_size=(3, 3), input_shape=(28, 28, 1), activation='relu'))\n",
        "model.add(Conv2D(64, (3, 3), activation='relu'))\n",
        "model.add(MaxPooling2D(pool_size=2))\n",
        "model.add(Dropout(0.25))\n",
        "model.add(Flatten())\n",
        "model.add(Dense(128,  activation='relu'))\n",
        "model.add(Dropout(0.5))\n",
        "model.add(Dense(10, activation='softmax'))\n",
        "\n",
        "model.compile(loss='categorical_crossentropy',\n",
        "              optimizer='adam',\n",
        "              metrics=['accuracy'])\n",
        "\n",
        "# 모델 최적화 설정\n",
        "MODEL_DIR = './model/'\n",
        "if not os.path.exists(MODEL_DIR):\n",
        "    os.mkdir(MODEL_DIR)\n",
        "\n",
        "modelpath=\"./model/{epoch:02d}-{val_loss:.4f}.hdf5\"\n",
        "checkpointer = ModelCheckpoint(filepath=modelpath, monitor='val_loss', verbose=1, save_best_only=True)\n",
        "early_stopping_callback = EarlyStopping(monitor='val_loss', patience=10)\n",
        "\n",
        "# 모델의 실행\n",
        "history = model.fit(X_train, Y_train, validation_data=(X_test, Y_test), epochs=30, batch_size=200, verbose=0, callbacks=[early_stopping_callback,checkpointer])\n",
        "\n",
        "# 테스트 정확도 출력\n",
        "print(\"\\n Test Accuracy: %.4f\" % (model.evaluate(X_test, Y_test)[1]))\n",
        "\n",
        "# 테스트 셋의 오차\n",
        "y_vloss = history.history['val_loss']\n",
        "\n",
        "# 학습셋의 오차\n",
        "y_loss = history.history['loss']\n",
        "\n",
        "# 그래프로 표현\n",
        "x_len = numpy.arange(len(y_loss))\n",
        "plt.plot(x_len, y_vloss, marker='.', c=\"red\", label='Testset_loss')\n",
        "plt.plot(x_len, y_loss, marker='.', c=\"blue\", label='Trainset_loss')\n",
        "\n",
        "# 그래프에 그리드를 주고 레이블을 표시\n",
        "plt.legend(loc='upper right')\n",
        "plt.grid()\n",
        "plt.xlabel('epoch')\n",
        "plt.ylabel('loss')\n",
        "plt.show()"
      ],
      "execution_count": null,
      "outputs": [
        {
          "output_type": "stream",
          "name": "stdout",
          "text": [
            "Downloading data from https://storage.googleapis.com/tensorflow/tf-keras-datasets/mnist.npz\n",
            "11493376/11490434 [==============================] - 0s 0us/step\n",
            "11501568/11490434 [==============================] - 0s 0us/step\n",
            "\n",
            "Epoch 00001: val_loss improved from inf to 0.05252, saving model to ./model/01-0.0525.hdf5\n",
            "\n",
            "Epoch 00002: val_loss improved from 0.05252 to 0.03903, saving model to ./model/02-0.0390.hdf5\n",
            "\n",
            "Epoch 00003: val_loss improved from 0.03903 to 0.03639, saving model to ./model/03-0.0364.hdf5\n",
            "\n",
            "Epoch 00004: val_loss improved from 0.03639 to 0.03160, saving model to ./model/04-0.0316.hdf5\n",
            "\n",
            "Epoch 00005: val_loss improved from 0.03160 to 0.03125, saving model to ./model/05-0.0313.hdf5\n",
            "\n",
            "Epoch 00006: val_loss improved from 0.03125 to 0.02851, saving model to ./model/06-0.0285.hdf5\n",
            "\n",
            "Epoch 00007: val_loss did not improve from 0.02851\n",
            "\n",
            "Epoch 00008: val_loss did not improve from 0.02851\n",
            "\n",
            "Epoch 00009: val_loss did not improve from 0.02851\n",
            "\n",
            "Epoch 00010: val_loss did not improve from 0.02851\n",
            "\n",
            "Epoch 00011: val_loss did not improve from 0.02851\n",
            "\n",
            "Epoch 00012: val_loss improved from 0.02851 to 0.02829, saving model to ./model/12-0.0283.hdf5\n",
            "\n",
            "Epoch 00013: val_loss improved from 0.02829 to 0.02523, saving model to ./model/13-0.0252.hdf5\n",
            "\n",
            "Epoch 00014: val_loss did not improve from 0.02523\n",
            "\n",
            "Epoch 00015: val_loss did not improve from 0.02523\n",
            "\n",
            "Epoch 00016: val_loss did not improve from 0.02523\n",
            "\n",
            "Epoch 00017: val_loss did not improve from 0.02523\n",
            "\n",
            "Epoch 00018: val_loss did not improve from 0.02523\n",
            "\n",
            "Epoch 00019: val_loss did not improve from 0.02523\n",
            "\n",
            "Epoch 00020: val_loss did not improve from 0.02523\n",
            "\n",
            "Epoch 00021: val_loss did not improve from 0.02523\n",
            "\n",
            "Epoch 00022: val_loss did not improve from 0.02523\n",
            "\n",
            "Epoch 00023: val_loss did not improve from 0.02523\n",
            "313/313 [==============================] - 5s 17ms/step - loss: 0.0306 - accuracy: 0.9923\n",
            "\n",
            " Test Accuracy: 0.9923\n"
          ]
        },
        {
          "output_type": "display_data",
          "data": {
            "image/png": "[encoded data removed]",
            "text/plain": [
              "<Figure size 432x288 with 1 Axes>"
            ]
          },
          "metadata": {
            "needs_background": "light"
          }
        }
      ]
    },
    {
      "cell_type": "code",
      "metadata": {
        "id": "WP0B2tEyKlic"
      },
      "source": [
        "def merge_sort(a): n = len(a) # 종료 조건: 정렬할 리스트의 자료 개수가 한 개 이하이면 정렬할 필요 없음 if n <= 1: return a # 그룹을 나누어 각각 병합 정렬을 호출하는 과정 mid = n // 2 # 중간을 기준으로 두 그룹으로 나눔 g1 = merge_sort(a[:mid]) # 재귀 호출로 첫 번째 그룹을 정렬 g2 = merge_sort(a[mid:]) # 재귀 호출로 두 번째 그룹을 정렬 # 두 그룹을 하나로 병합 result = [] # 두 그룹을 합쳐 만들 최종 결과 while g1 and g2: # 두 그룹에 모두 자료가 남아 있는 동안 반복 if g1[0] < g2[0]: # 두 그룹의 맨 앞 자료 값을 비교 # g1의 값이 더 작으면 그 값을 빼내어 결과로 추가 result.append(g1.pop(0)) else: # g2의 값이 더 작으면 그 값을 빼내어 결과로 추가 result.append(g2.pop(0)) # 아직 남아 있는 자료들을 결과에 추가 # g1과 g2 중 이미 빈 것은 while을 바로 지나감 while g1: result.append(g1.pop(0)) while g2: result.append(g2.pop(0)) return result d = [6, 8, 3, 9, 10, 1, 2, 4, 7, 5] print(merge_sort(d))\n"
      ],
      "execution_count": null,
      "outputs": []
    }
  ]
}